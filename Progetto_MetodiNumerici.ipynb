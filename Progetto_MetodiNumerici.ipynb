{
  "cells": [
    {
      "cell_type": "markdown",
      "metadata": {
        "id": "view-in-github",
        "colab_type": "text"
      },
      "source": [
        "<a href=\"https://colab.research.google.com/github/abckev/MetodiNumerici/blob/main/Progetto_MetodiNumerici.ipynb\" target=\"_parent\"><img src=\"https://colab.research.google.com/assets/colab-badge.svg\" alt=\"Open In Colab\"/></a>"
      ]
    },
    {
      "cell_type": "code",
      "execution_count": null,
      "id": "3fe94688",
      "metadata": {
        "id": "3fe94688"
      },
      "outputs": [],
      "source": [
        "%matplotlib inline\n",
        "import numpy as np\n",
        "import matplotlib.pyplot as plt\n",
        "import scipy.linalg\n",
        "import scipy.integrate"
      ]
    },
    {
      "cell_type": "markdown",
      "id": "405cafef",
      "metadata": {
        "id": "405cafef"
      },
      "source": [
        "Compile the following notebook and share a link with me sending and e-mail to giovanni.stabile@uniurb.it at least one week before the oral examination. All the implemented function will have to be properly documented and commented."
      ]
    },
    {
      "cell_type": "markdown",
      "id": "9d175179",
      "metadata": {
        "id": "9d175179"
      },
      "source": [
        "Compile The following Cell with your information. In case it is a group project, put the info for all the group members\n",
        "\n",
        "Name1: Kevin\n",
        "\n",
        "Surname1: Berberolli\n",
        "\n",
        "Email1: k.berberolli@campus.uniurb.it"
      ]
    },
    {
      "cell_type": "markdown",
      "id": "8184faab",
      "metadata": {
        "id": "8184faab"
      },
      "source": [
        "Consider the following one-dimensional PDE:\n",
        "$$\n",
        "-u_{xx}(x) = f(x)\\quad\\mathrm{ in }\\ \\Omega = (0, \\pi)\n",
        "$$\n",
        "$$\n",
        "u(x) = 0, \\quad\\mathrm{ on }\\ \\partial\\Omega = \\{0, \\pi\\}\n",
        "$$\n",
        "\n",
        "Given the following $4^{th}$ order finite difference approximation of the second order derivative:\n",
        "\n",
        "$$u_{xx}(x_i) = \\frac{-u_{i-2}+16u_{i-1}-30u_i+16u_{i+1}-u_{i+2}}{12h^2}$$\n",
        "\n",
        "Implement a function that given the domain interval, the forcing function, the number of discretization points, the boundary conditions, returns the matrix $A$ and the the right hand side $b$."
      ]
    },
    {
      "cell_type": "markdown",
      "source": [
        "\n",
        "## Considerazioni iniziali\n",
        "As seen in the classroom exercises, for the numerical discretization of the problem, we consider a *Finite Difference (FD) Approximation*.\n",
        "\n",
        "In order to formulate the discrete problem, we consider a FD approximation of the left-hand side, as follows ($4^{th}$ order finite difference approximation of the second order derivative):\n",
        "\n",
        "$$u_{xx}(x_i) \\approx \\frac{-u_{i-2}+16u_{i-1}-30u_i+16u_{i+1}-u_{i+2}}{12h^2} \\qquad \\text{for} \\qquad  i = 2, ..., n-2$$\n",
        "\n",
        "while we use the $2^{th}$ order finite difference approximation of the second order derivative for the remaining points $(i = 1, n-1)$:\n",
        "\n",
        "$$\n",
        "-u_{xx}(x_i) \\approx \\frac{-u_{i-1} + 2u_i - u_{i+1}}{h^2} \\qquad \\text{for} \\qquad  i = 1, n-1\n",
        "$$\n",
        "\n",
        "being $h = \\frac{\\pi}{n-1}$ the size of each subinterval $(x_i, x_{i+1})$."
      ],
      "metadata": {
        "id": "dyGSjUR6k3Va"
      },
      "id": "dyGSjUR6k3Va"
    },
    {
      "cell_type": "code",
      "execution_count": null,
      "id": "1c562f13",
      "metadata": {
        "id": "1c562f13"
      },
      "outputs": [],
      "source": [
        "#La funzione genera il sistema lineare di equazioni (Ax = b) implementando lo schema alle differenze finite del 4° ordine\n",
        "# per una PDE generale nella forma: -u_xx(x) = f(x) con condizioni di contorno u(x_0) = bc[0] and u(x_n) = bc[1]\n",
        "def finDif(omega, f, n, bc):\n",
        "\n",
        "    h = np.abs(omega[0] - omega[1]) / (n - 1)\n",
        "\n",
        "    x = np.linspace(omega[0], omega[1], n)\n",
        "\n",
        "    # termine di approssimazione del 4° ordine\n",
        "    termine_noto = -f(x)\n",
        "\n",
        "    # termine di approssimazione del 2° ordine\n",
        "    termine_noto[1] = f(x[1])\n",
        "    termine_noto[-2] = f(x[-2])\n",
        "\n",
        "    # Conzdizioni di contorno\n",
        "    termine_noto[0] = bc[0]\n",
        "    termine_noto[-1] = bc[1]\n",
        "\n",
        "    # Discretizzazione della matrice\n",
        "    A = np.zeros((n, n))\n",
        "\n",
        "    a = -np.ones((n-2, ))\n",
        "    b = 16*np.ones((n-1, ))\n",
        "    c = -30*np.ones((n, ))\n",
        "    A = (np.diag(a, -2) + np.diag(a, +2) + np.diag(b, -1) + np.diag(b, +1) + np.diag(c, 0))\n",
        "    A /= (12*h**2)\n",
        "\n",
        "    # Cambio la prima riga della matrice\n",
        "    A[0, :] = np.zeros(n)\n",
        "    A[1, :] = np.zeros(n)\n",
        "\n",
        "    A[n-1, :] = np.zeros(n)\n",
        "    A[n-2, :] = np.zeros(n)\n",
        "\n",
        "    # 2° ordine\n",
        "    A_second_row = np.array([-1.0, 2.0, -1.0]) / (h**2)\n",
        "    A_second_last_row = np.array([-1.0, 2.0, -1.0]) / (h**2)\n",
        "\n",
        "    A[1, 0:3] = A_second_row\n",
        "    A[n-2, n-3:n] = A_second_last_row\n",
        "\n",
        "    A[0, 0] = 1\n",
        "    A[-1, -1] = 1\n",
        "\n",
        "    return A, termine_noto"
      ]
    },
    {
      "cell_type": "markdown",
      "id": "c21bb21e",
      "metadata": {
        "id": "c21bb21e"
      },
      "source": [
        "Call the function using:"
      ]
    },
    {
      "cell_type": "code",
      "execution_count": null,
      "id": "23af8831",
      "metadata": {
        "id": "23af8831"
      },
      "outputs": [],
      "source": [
        "# Parametri\n",
        "omega = [0, np.pi]\n",
        "f = lambda x : np.sin(x)\n",
        "n = 100\n",
        "bc = [0, 0]\n",
        "A, b = finDif(omega, f, n, bc)\n"
      ]
    },
    {
      "cell_type": "markdown",
      "id": "4f8a7c6f",
      "metadata": {
        "id": "4f8a7c6f"
      },
      "source": [
        "Implement two functions that compute the LU and the Cholesky factorization of the system matrix $A$"
      ]
    },
    {
      "cell_type": "markdown",
      "source": [
        "## LU decomposition\n",
        "\n",
        "We want to implement our linear solver using an **LU decomposition** (without pivoting)\n",
        "$$\n",
        "A = LU\n",
        "$$"
      ],
      "metadata": {
        "id": "W9sSF1NYrhQ7"
      },
      "id": "W9sSF1NYrhQ7"
    },
    {
      "cell_type": "code",
      "execution_count": null,
      "id": "47468a37",
      "metadata": {
        "id": "47468a37"
      },
      "outputs": [],
      "source": [
        "# La funzione impementa la fattorizzazione LU della matrice A\n",
        "def LU(A):\n",
        "    A = A.copy()  #copia della matrice\n",
        "    N = len(A)\n",
        "    for k in range(N-1):\n",
        "        if (abs(A[k,k]) < 1e-15):\n",
        "            raise RuntimeError(\"Null pivot\")\n",
        "\n",
        "        A[k+1:N,k] /= A[k,k]\n",
        "\n",
        "        for j in range(k+1,N):\n",
        "            A[k+1:N,j] -= A[k+1:N,k]*A[k,j]\n",
        "\n",
        "    L = np.tril(A)    # L matrice triangolare inferiore\n",
        "\n",
        "    for i in range(N):\n",
        "        L[i,i] = 1.0\n",
        "\n",
        "    U = np.triu(A)   # U matrice triangolare superiore\n",
        "\n",
        "    return L, U\n",
        "\n",
        "#L, U = LU(A)"
      ]
    },
    {
      "cell_type": "markdown",
      "source": [
        "## Cholesky decomposition\n",
        "\n",
        "The Cholesky decomposotion seeks an upper triangular matrix $H$ (with all positive elements on the diagonal) such that\n",
        "$$\n",
        "A = H^T H\n",
        "$$"
      ],
      "metadata": {
        "id": "YrJO49xHr71t"
      },
      "id": "YrJO49xHr71t"
    },
    {
      "cell_type": "code",
      "execution_count": null,
      "id": "193ebfed",
      "metadata": {
        "id": "193ebfed"
      },
      "outputs": [],
      "source": [
        "# La funzione implementa la fattorizzazione di Cholesky\n",
        "def cholesky(A):\n",
        "    A = A.copy()\n",
        "    N = len(A)\n",
        "    for k in range(N-1):\n",
        "        A[k,k] = np.sqrt(A[k,k])\n",
        "        A[k+1:N,k] = A[k+1:N,k]/A[k,k]\n",
        "\n",
        "        for j in range(k+1,N):\n",
        "            A[j:N,j] = A[j:N,j] - A[j:N,k]*A[j,k]\n",
        "\n",
        "    A[-1,-1] = np.sqrt(A[-1,-1])\n",
        "    L = np.tril(A)\n",
        "\n",
        "    return L, L.transpose()\n",
        "\n",
        "#HT, H = cholesky(A)"
      ]
    },
    {
      "cell_type": "markdown",
      "id": "41eb8436",
      "metadata": {
        "id": "41eb8436"
      },
      "source": [
        "Implement forward and backward substitution functions to exploit the developed factorization methods to solve the derived linear system of equations."
      ]
    },
    {
      "cell_type": "code",
      "execution_count": null,
      "id": "019cf0df",
      "metadata": {
        "id": "019cf0df"
      },
      "outputs": [],
      "source": [
        "# La funzione implementa la sostituzione all'avanti per risolvere il sistema lineare nella forma Lx = rhs\n",
        "def L_solve(L, rhs):\n",
        "    x = np.zeros_like(rhs)\n",
        "    N = len(L)\n",
        "\n",
        "    x[0] = rhs[0]/L[0,0]\n",
        "\n",
        "    for i in range(1,N):\n",
        "        x[i] = (rhs[i] - np.dot(L[i, 0:i], x[0:i]))/L[i,i]\n",
        "\n",
        "    return x"
      ]
    },
    {
      "cell_type": "code",
      "execution_count": null,
      "id": "26ce17c4",
      "metadata": {
        "id": "26ce17c4"
      },
      "outputs": [],
      "source": [
        "# La funzione implementa la sostituzione all'indietro per risolvere il sistema lineare nella forma Ux = rhs\n",
        "def U_solve(U, rhs):\n",
        "    x = np.zeros_like(rhs)\n",
        "    N = len(U)\n",
        "\n",
        "    x[-1] = rhs[-1]/U[-1,-1]\n",
        "\n",
        "    for i in reversed(range(N-1)):\n",
        "        x[i] = (rhs[i] -np.dot(U[i, i+1:N], x[i+1:N]))/U[i,i]\n",
        "\n",
        "    return x"
      ]
    },
    {
      "cell_type": "markdown",
      "id": "08ac9ba1",
      "metadata": {
        "id": "08ac9ba1"
      },
      "source": [
        "Solve the derived linear system using the implemented functions and plot the computed solution:"
      ]
    },
    {
      "cell_type": "code",
      "execution_count": null,
      "id": "7c1de4f3",
      "metadata": {
        "id": "7c1de4f3",
        "colab": {
          "base_uri": "https://localhost:8080/",
          "height": 449
        },
        "outputId": "614a2fb5-ce0a-4a8c-93dd-9e88091b3112"
      },
      "outputs": [
        {
          "output_type": "display_data",
          "data": {
            "text/plain": [
              "<Figure size 640x480 with 1 Axes>"
            ],
            "image/png": "[encoded data removed]"
          },
          "metadata": {}
        }
      ],
      "source": [
        "#TODO\n",
        "A, b = finDif(omega, f, n, bc)\n",
        "L, U = LU(A)\n",
        "w = L_solve(L, b)\n",
        "u = U_solve(U, w)\n",
        "\n",
        "x = np.linspace(omega[0], omega[1], n)\n",
        "plt.plot(x, u, '-b')\n",
        "plt.xlabel('Dominio Ω')\n",
        "plt.ylabel('u')\n",
        "plt.grid()"
      ]
    },
    {
      "cell_type": "markdown",
      "id": "62cdfe65",
      "metadata": {
        "id": "62cdfe65"
      },
      "source": [
        "Considering the new domain $\\Omega = (0,1)$ and the forcing term $f(x) = x(1-x)$ with B.C. $u(x) = 0$, on $\\partial \\Omega = {0,1}$ produce a plot and a table where you show the decay of the error w.r.t. the number of grid points.\n",
        "(The analytical solution for the above problems is $u_{an} = \\frac{x^4}{12} - \\frac{x^3}{6} + \\frac{x}{12}$)"
      ]
    },
    {
      "cell_type": "code",
      "execution_count": null,
      "id": "91212afb",
      "metadata": {
        "id": "91212afb",
        "colab": {
          "base_uri": "https://localhost:8080/",
          "height": 466
        },
        "outputId": "ac668740-1ea9-4382-acee-cd355bb102a8"
      },
      "outputs": [
        {
          "output_type": "stream",
          "name": "stdout",
          "text": [
            "Errore: 2.3176179749389897e-07\n"
          ]
        },
        {
          "output_type": "display_data",
          "data": {
            "text/plain": [
              "<Figure size 640x480 with 1 Axes>"
            ],
            "image/png": "[encoded data removed]"
          },
          "metadata": {}
        }
      ],
      "source": [
        "omega_new = [0, 1]\n",
        "n_new = 50\n",
        "x_new = np.linspace(omega_new[0], omega_new[1], n_new)\n",
        "f_new = lambda x_new : x_new*(1 - x_new)\n",
        "bc_new = [0, 0]\n",
        "\n",
        "A_new, b_new = finDif(omega_new, f_new, n_new, bc_new)\n",
        "A1_new = A_new.copy()\n",
        "L_new, U_new = LU(A1_new)\n",
        "w_new = L_solve(L_new, b_new)\n",
        "u_new = U_solve(U_new, w_new)\n",
        "\n",
        "# Soluzione esatta\n",
        "u_ex = (x_new**4)/12.0 - (x_new**3)/6.0 + x_new/12.0\n",
        "\n",
        "plt.plot(x_new, u_new, 'or', label='approssimato')\n",
        "plt.plot(x_new, u_ex, label='esatto')\n",
        "plt.xlabel('Omega')\n",
        "plt.ylabel('u')\n",
        "plt.legend()\n",
        "plt.grid()\n",
        "\n",
        "print('Errore:', np.linalg.norm(u_ex - u_new, 2))"
      ]
    },
    {
      "cell_type": "code",
      "source": [
        "omega_new = [0, 1]\n",
        "bc_new = [0, 0]\n",
        "\n",
        "error = []\n",
        "n_points = np.array([x for x in range(10, 101)])\n",
        "\n",
        "for j in n_points:\n",
        "    x_new = np.linspace(omega_new[0], omega_new[1], j)\n",
        "    f_new = lambda x_new : x_new*(1 - x_new)\n",
        "    u_ex = (x_new**4)/12.0 - (x_new**3)/6.0 + x_new/12.0\n",
        "\n",
        "    A_new, b_new = finDif(omega_new, f_new, j, bc_new)\n",
        "    A1_new = A_new.copy()\n",
        "    u_new = np.linalg.solve(A1_new, b_new)\n",
        "\n",
        "    error.append(np.linalg.norm(u_ex - u_new, 2))\n",
        "\n",
        "plt.plot(n_points, error)\n",
        "plt.xlabel('Numbero punti di discretizzazione')\n",
        "plt.ylabel('Errore')\n",
        "plt.grid()"
      ],
      "metadata": {
        "colab": {
          "base_uri": "https://localhost:8080/",
          "height": 465
        },
        "id": "uGBNun3cT5C8",
        "outputId": "ec651c8e-6610-442b-96c2-25c63ec3ad09"
      },
      "id": "uGBNun3cT5C8",
      "execution_count": null,
      "outputs": [
        {
          "output_type": "display_data",
          "data": {
            "text/plain": [
              "<Figure size 640x480 with 1 Axes>"
            ],
            "image/png": "[encoded data removed]"
          },
          "metadata": {}
        }
      ]
    },
    {
      "cell_type": "markdown",
      "id": "c8d5002f",
      "metadata": {
        "id": "c8d5002f"
      },
      "source": [
        "Exploit the derived LU factorizations to compute the determinant of the system's matrix $A$ using the original problem formulation."
      ]
    },
    {
      "cell_type": "code",
      "source": [
        "# La funizone implementa il calcolo del deterninante della matrice A\n",
        "def determinant(A):\n",
        "    L, U = LU(A)\n",
        "    size = A.shape[0]\n",
        "    determinant = 1\n",
        "\n",
        "    for i in range(size):\n",
        "        determinant *= U[i, i]\n",
        "\n",
        "    return determinant\n",
        "\n",
        "print('Determinante(A):', determinant(A))"
      ],
      "metadata": {
        "colab": {
          "base_uri": "https://localhost:8080/"
        },
        "id": "CTVk3EAgTqfm",
        "outputId": "e81a05a4-e6ba-4805-9d22-196f74e56f43"
      },
      "id": "CTVk3EAgTqfm",
      "execution_count": null,
      "outputs": [
        {
          "output_type": "stream",
          "name": "stdout",
          "text": [
            "Determinante(A): 8.194685190047183e+301\n"
          ]
        }
      ]
    },
    {
      "cell_type": "code",
      "execution_count": null,
      "id": "c25fc1fe",
      "metadata": {
        "id": "c25fc1fe",
        "colab": {
          "base_uri": "https://localhost:8080/"
        },
        "outputId": "5b0a645b-ba3d-4893-eaa5-2d9051f4b6ed"
      },
      "outputs": [
        {
          "output_type": "stream",
          "name": "stdout",
          "text": [
            "Numero di Condizionamento(A): 37738.9737111139\n"
          ]
        }
      ],
      "source": [
        "# Numero di condizionamento\n",
        "def condNum(A):\n",
        "    return np.linalg.norm(A, 2) * np.linalg.norm(np.linalg.inv(A), 2)\n",
        "\n",
        "print('Numero di Condizionamento(A):', condNum(A))"
      ]
    },
    {
      "cell_type": "markdown",
      "id": "2728b49a",
      "metadata": {
        "id": "2728b49a"
      },
      "source": [
        "Implement a preconditioned Conjugant Gradient method to solve the original linear system of equations using an iterative method:"
      ]
    },
    {
      "cell_type": "markdown",
      "source": [
        "## Conjugate gradient\n",
        "   \n",
        "   $$\n",
        "   \\alpha^k = \\frac{{\\bf p}^{k^{T}} {\\bf r}^k}{{\\bf p}^{k^{T}} A{\\bf p}^k}\n",
        "   $$\n",
        "   \n",
        "      \n",
        "   $$\n",
        "   {\\bf x}^{k+1} = {\\bf x}^k + \\alpha^k {\\bf p}^k\n",
        "   $$\n",
        "   \n",
        "   $$\n",
        "   {\\bf r}^{k+1} = {\\bf r}^k - \\alpha^kA {\\bf p}^k\n",
        "   $$\n",
        "\n",
        "   $$\n",
        "   \\beta^k = \\frac{(A{\\bf p}^{k})^{T}{\\bf r}^{k+1}}{(A{\\bf p}^{k})^{T}  {\\bf p}^k}\n",
        "   $$\n",
        "   \n",
        "   $$\n",
        "   {\\bf p}^{k+1} = {\\bf r}^{k+1} - \\beta^k{\\bf p}^k\n",
        "   $$"
      ],
      "metadata": {
        "id": "abDpdrKT7qNT"
      },
      "id": "abDpdrKT7qNT"
    },
    {
      "cell_type": "code",
      "execution_count": null,
      "id": "62b83aee",
      "metadata": {
        "id": "62b83aee"
      },
      "outputs": [],
      "source": [
        "# La funzione implementa il metodo del gradiente coniugato per risolvere il sistema lineare di equazioni nella forma PAx = b\n",
        "def conjugate_gradient(A, b, P, nmax, eps=1e-10):\n",
        "\n",
        "    #criterio di arresto sul num. di iterazioni\n",
        "    if nmax <= len(A):\n",
        "        N = nmax\n",
        "    else:\n",
        "        N = len(A)\n",
        "\n",
        "    x = np.zeros_like(b)\n",
        "    tol = eps + 1\n",
        "    it = 0\n",
        "    r = b - np.dot(A,x)\n",
        "    rho_old = 1.\n",
        "    p_old = np.zeros_like(b)\n",
        "\n",
        "    while (it < N and tol > eps):\n",
        "        it += 1\n",
        "        z = np.linalg.solve(P,r)\n",
        "        rho = np.dot(r,z)\n",
        "\n",
        "        if (it > 1):\n",
        "            beta = rho/rho_old\n",
        "            p = z + beta*p_old\n",
        "        else:\n",
        "            p = z\n",
        "\n",
        "        q = np.dot(A,p)\n",
        "        alpha = rho/(np.dot(p,q))\n",
        "        x += p*alpha\n",
        "        r -= q*alpha\n",
        "\n",
        "        p_old = p\n",
        "        rho_old = rho\n",
        "\n",
        "        tol = np.linalg.norm(r, 2)\n",
        "\n",
        "    print('Iterazioni:\\t', it)\n",
        "    print('Tolleranza:\\t', tol)\n",
        "    return x"
      ]
    },
    {
      "cell_type": "code",
      "source": [
        "# Parametri\n",
        "omega2 = [0, np.pi]\n",
        "f2 = lambda x : np.sin(x)\n",
        "n2 = 50\n",
        "bc2 = [0, 0]\n",
        "\n",
        "# Metodo esatto\n",
        "A2, b2 = finDif(omega2, f2, n2, bc2)\n",
        "L2, U2 = LU(A2)\n",
        "w2 = L_solve(L2, b2)\n",
        "u2 = U_solve(U2, w2)\n",
        "\n",
        "# Metodo iterativo\n",
        "sol_conjugate_gradient = conjugate_gradient(A2, b2, np.identity(len(A2)), n2)\n",
        "print('Errore:\\t\\t', np.linalg.norm(sol_conjugate_gradient - u2)/np.linalg.norm(u))\n",
        "\n",
        "# %time sol_conjugate_gradient = conjugate_gradient(A2, b2, np.identity(len(A2)), n2)"
      ],
      "metadata": {
        "colab": {
          "base_uri": "https://localhost:8080/"
        },
        "id": "7sDRVyjITT-J",
        "outputId": "53f12c6a-99c3-4ce4-becc-2857f1b88020"
      },
      "id": "7sDRVyjITT-J",
      "execution_count": null,
      "outputs": [
        {
          "output_type": "stream",
          "name": "stdout",
          "text": [
            "Iterazioni:\t 50\n",
            "Tolleranza:\t 1.9029288605195382\n",
            "Errore:\t\t 0.01515312174461731\n"
          ]
        }
      ]
    },
    {
      "cell_type": "markdown",
      "id": "8a4cfc02",
      "metadata": {
        "id": "8a4cfc02"
      },
      "source": [
        "Consider the following time dependent variation of the PDE starting from the orginal problem formulation:\n",
        "$$\n",
        "u'(t)-u_{xx} = \\alpha(t)f(x)\n",
        "$$\n",
        "\n",
        "for $t\\in [0,T]$, with $\\alpha(t) = \\cos(t)$ and $T = 6\\pi$\n",
        "\n",
        "Use the same finite difference scheme to derive the semi-discrete formulation and solve it using a forward Euler's method.\n",
        "\n",
        "Plot the time dependent solution solution at $x = \\pi/2$, $x=1$,\n",
        "$x=\\pi$\n"
      ]
    },
    {
      "cell_type": "code",
      "execution_count": null,
      "id": "3ffe0689",
      "metadata": {
        "id": "3ffe0689",
        "colab": {
          "base_uri": "https://localhost:8080/"
        },
        "outputId": "9da5937c-d0f1-4c34-d2a5-ea55f6abdd3e"
      },
      "outputs": [
        {
          "output_type": "stream",
          "name": "stderr",
          "text": [
            "<ipython-input-168-5f66ec533885>:22: RuntimeWarning: overflow encountered in double_scalars\n",
            "  uxx[i] = (-u_values[t, i + 1] + 16 * u_values[t, i] - 30 * u_values[t, i - 1] + 16 * u_values[t, i - 2] - u_values[t, i - 3]) / (12 * dx**2)\n",
            "<ipython-input-168-5f66ec533885>:24: RuntimeWarning: invalid value encountered in add\n",
            "  u_values[t + 1, 1:-1] = u_values[t, 1:-1] + dt * (alpha(t * dt) * uxx[1:-1])\n"
          ]
        }
      ],
      "source": [
        "# Parametri\n",
        "T = np.pi*6   #Tempo totale\n",
        "n = 100  # Num punti dicreti nello spazio\n",
        "nt = 500  # Num punti discrti nel tempo\n",
        "dt = T / nt\n",
        "alpha = lambda t: np.cos(t)\n",
        "\n",
        "# Griglia dello spazio\n",
        "x_values = np.linspace(0, np.pi, n)\n",
        "dx = x_values[1] - x_values[0]\n",
        "\n",
        "# Griglia temporale\n",
        "u_values = np.zeros((nt + 1, n))\n",
        "\n",
        "# Condizioni iniziali\n",
        "u_values[0, :] = np.sin(x_values)\n",
        "\n",
        "# Iterazione\n",
        "for t in range(nt):\n",
        "    uxx = np.zeros(n)\n",
        "    for i in range(1, n - 1):\n",
        "        uxx[i] = (-u_values[t, i + 1] + 16 * u_values[t, i] - 30 * u_values[t, i - 1] + 16 * u_values[t, i - 2] - u_values[t, i - 3]) / (12 * dx**2)\n",
        "\n",
        "    u_values[t + 1, 1:-1] = u_values[t, 1:-1] + dt * (alpha(t * dt) * uxx[1:-1])\n",
        "\n",
        "# Plot\n",
        "# ///\n"
      ]
    },
    {
      "cell_type": "markdown",
      "id": "36936121",
      "metadata": {
        "id": "36936121"
      },
      "source": [
        "Given the original $Au = b$ system, implement an algorithm to compute the largest and smallest eigenvalues and the associated eigenvectors of the matrix $A$."
      ]
    },
    {
      "cell_type": "markdown",
      "source": [
        "# Eigenvalue and eigenvectors calculation\n",
        "\n",
        "$$\n",
        "A\\mathbf{x} = \\lambda \\mathbf{x}\n",
        "$$\n",
        "\n",
        "### Power method (vector iteration)\n",
        "- find the largest eigenvalue $\\lambda_{max}$\n",
        "\\begin{align}\n",
        "\\mathbf{q}_k & = \\frac{\\mathbf{z}_{k-1}}{\\|\\mathbf{z}_{k-1}\\|_2}\\\\\n",
        "\\mathbf{z}_k & = A\\mathbf{q}_{k}\\\\\n",
        "\\lambda_{max}^k & = \\mathbf{q}^T_k \\mathbf{z}_k\n",
        "\\end{align}"
      ],
      "metadata": {
        "id": "ew5Yel4nS2z1"
      },
      "id": "ew5Yel4nS2z1"
    },
    {
      "cell_type": "code",
      "execution_count": null,
      "id": "622aadf4",
      "metadata": {
        "id": "622aadf4"
      },
      "outputs": [],
      "source": [
        "#La funzione implementa il metodo della potenza per trovare l'autovalore e l'autovettore più grandi della matrice A\n",
        "z0 = np.ones_like(b)\n",
        "\n",
        "def PM(A, z0, tol=1e-8, nmax=500):\n",
        "    z = z0   # valore iniziale dell'autovettore\n",
        "    it = 0\n",
        "    eps = tol + 1\n",
        "\n",
        "    while (it < nmax and eps > tol):\n",
        "        it += 1\n",
        "        q = z / (np.linalg.norm(z))\n",
        "        if (it == 1):\n",
        "            l_km1 = q.T @ z\n",
        "        else:\n",
        "            l_km1 = l.copy()\n",
        "\n",
        "        z = A @ q\n",
        "        l = q.T @ z\n",
        "        eps = np.linalg.norm(A @ q - l * q, 2)\n",
        "\n",
        "    return l, q"
      ]
    },
    {
      "cell_type": "code",
      "source": [
        "# Stampo l'autovalore minimo\n",
        "l, x = PM(A, z0)\n",
        "print(\"l_max =\", l)"
      ],
      "metadata": {
        "colab": {
          "base_uri": "https://localhost:8080/"
        },
        "id": "hSjp6_j2R0u3",
        "outputId": "6296c5ca-b318-443d-adce-eb1fb4e421ff"
      },
      "id": "hSjp6_j2R0u3",
      "execution_count": null,
      "outputs": [
        {
          "output_type": "stream",
          "name": "stdout",
          "text": [
            "l_max = -446.7457230903773\n"
          ]
        }
      ]
    },
    {
      "cell_type": "markdown",
      "source": [
        "### Inverse power method\n",
        "- find the eigenvalue $\\lambda$ **closest** to $\\mu$\n",
        "\\begin{align}\n",
        "M & = A-\\mu I\\\\\n",
        "M & = LU \\\\\n",
        "& \\\\\n",
        "M\\mathbf{x}_k &= \\mathbf q_{k-1}\\\\\n",
        "\\mathbf{q}_k & = \\frac{\\mathbf{x}_k}{\\|\\mathbf{x}_k\\|_2}\\\\\n",
        "\\mathbf{z}_k & = A\\mathbf{q}_{k}\\\\\n",
        "\\lambda^k & = \\mathbf{q}^T_k \\mathbf{z}_k\n",
        "\\end{align}"
      ],
      "metadata": {
        "id": "mM6_YNXUS8Co"
      },
      "id": "mM6_YNXUS8Co"
    },
    {
      "cell_type": "code",
      "source": [
        "# La funzione implementa il metodo della potenza inversa per trovare l'autovalore e l'autovettore più piccoli della matrice A\n",
        "def IPM(A, x0, mu, tol=1e-10, nmax=500):\n",
        "    M = A - mu * np.identity(A.shape[0])\n",
        "    P, L, U = scipy.linalg.lu(M)\n",
        "    it = 0\n",
        "    eps = tol + 1\n",
        "    while (it < nmax and eps > tol):\n",
        "        it += 1\n",
        "\n",
        "        if (it == 1):\n",
        "            q_km1 = x0 / np.linalg.norm(x0)\n",
        "        else:\n",
        "            q_km1 = q.copy()\n",
        "        y = scipy.linalg.solve_triangular(L, P.T@q_km1, lower= True)\n",
        "        x = scipy.linalg.solve_triangular(U, y, lower=False)\n",
        "        q = x / np.linalg.norm(x)\n",
        "        z = A @ q\n",
        "\n",
        "        if (it == 1):\n",
        "            l_km1 = q.T @ z\n",
        "        else:\n",
        "            l_km1 = l.copy()\n",
        "        l = q.T @ z\n",
        "        eps = np.linalg.norm(A @ q - l * q)\n",
        "\n",
        "    return l, q"
      ],
      "metadata": {
        "id": "JYJQtrz8SIuR"
      },
      "id": "JYJQtrz8SIuR",
      "execution_count": null,
      "outputs": []
    },
    {
      "cell_type": "code",
      "source": [
        "# Stampo l'autovalore minimo\n",
        "l, x = IPM(A, z0, 0.5)\n",
        "print(\"l_min =\", l)"
      ],
      "metadata": {
        "colab": {
          "base_uri": "https://localhost:8080/"
        },
        "id": "oG_SO1m1STcm",
        "outputId": "b727aa6e-0fbb-4ba7-92a1-b21483ccccd3"
      },
      "id": "oG_SO1m1STcm",
      "execution_count": null,
      "outputs": [
        {
          "output_type": "stream",
          "name": "stdout",
          "text": [
            "l_min = 1.0000000000865545\n"
          ]
        }
      ]
    },
    {
      "cell_type": "markdown",
      "id": "85d5f64e",
      "metadata": {
        "id": "85d5f64e"
      },
      "source": [
        "Compute the inverse of the matrix A exploiting the derived LU factorization"
      ]
    },
    {
      "cell_type": "code",
      "execution_count": null,
      "id": "6ad7199f",
      "metadata": {
        "id": "6ad7199f"
      },
      "outputs": [],
      "source": [
        "# Calcolo la matrice inversa di A usando la fattorizzazione LU\n",
        "def inverseMatrix(A):\n",
        "    size = round(np.sqrt(A.size))\n",
        "    E = np.eye(size)\n",
        "    X = np.zeros_like(E)\n",
        "    W = np.zeros_like(E)\n",
        "    L, U = LU(A)\n",
        "\n",
        "    for i in range(size):\n",
        "        W[:, i:] = L_solve(L, E[:,i:])\n",
        "        X[:, i:] = U_solve(U, W[:,i:])\n",
        "\n",
        "    return X"
      ]
    },
    {
      "cell_type": "markdown",
      "id": "cb22566e",
      "metadata": {
        "id": "cb22566e"
      },
      "source": [
        "Consider the following Cauchy problem\n",
        "$$\n",
        "\\begin{cases}\n",
        "y'= -ty^2 \\quad 0\\le t \\le 2\\\\\n",
        "y(0) = 1\n",
        "\\end{cases}\n",
        "$$\n",
        "Implement a Backward Euler's method in a suitable function and solve the resulting non-linear equation using a Newton's method."
      ]
    },
    {
      "cell_type": "markdown",
      "source": [
        "# ODE\n",
        "\n",
        "We will solve the following linear Cauchy model\n",
        "\n",
        "\\begin{align}\n",
        "y^{\\prime}(t) &= \\lambda y(t)\\\\\n",
        "y(0) & = 1\n",
        "\\end{align}\n",
        "\n",
        "whose exact solution is\n",
        "\n",
        "$$\n",
        "y(t) = e^{\\lambda t}\n",
        "$$\n",
        "\n",
        "### Backward Euler\n",
        "\n",
        "$$\n",
        "\\frac{y_{n}-y_{n-1}}{h} = f(y_{n}, t_{n})\n",
        "$$\n",
        "\n",
        "### Newton's Method\n",
        "$$\n",
        "q^n = g^{\\prime}(y_n) = \\frac{dg(y_n)}{dy_n} = 2 h t y_n + 1\n",
        "$$\n",
        "\n",
        "$$\n",
        "y_{n+1} = y_n - \\frac{g(y_n)}{q^n}\n",
        "$$"
      ],
      "metadata": {
        "id": "vKYGBsBoVKsZ"
      },
      "id": "vKYGBsBoVKsZ"
    },
    {
      "cell_type": "code",
      "execution_count": null,
      "id": "3184e358",
      "metadata": {
        "id": "3184e358"
      },
      "outputs": [],
      "source": [
        "# La funzione implementa il metodo di Newton per trovare gli zero della funzione f\n",
        "def newton(f, f_prime, x0, eps=1e-30, n_max=10000):\n",
        "    x = x0  #guess iniziale\n",
        "    err = abs(f(x))\n",
        "    errors = [err]  #lista errori\n",
        "\n",
        "    err = eps + 1.\n",
        "    it = 0\n",
        "    while (err > eps and it < n_max):\n",
        "        qk = f_prime(x)\n",
        "        if (abs(qk) < 1e-12):\n",
        "            raise RuntimeError(\"f_prime(x) is close to zero\")\n",
        "        x = x - (f(x) / qk)\n",
        "\n",
        "        # calcolo e salvo l'errore\n",
        "        err = abs(f(x))\n",
        "        errors.append(err)\n",
        "        it += 1\n",
        "\n",
        "    return x, errors"
      ]
    },
    {
      "cell_type": "code",
      "source": [
        "# La funzione implementa il Metodo di Eulero all'indietro per risolvere l'ODE\n",
        "def be(y0, t0, tf, h):\n",
        "    timesteps = np.arange(t0, tf+1e-10, h)\n",
        "    sol = np.zeros_like(timesteps)\n",
        "\n",
        "    sol[0] = y0\n",
        "    for i in range(1, len(sol)):\n",
        "        t = timesteps[i-1]\n",
        "        g = lambda y: h * t * y**2 + y - sol[i-1]\n",
        "        g_prime = lambda y: 2 * h * t * y + 1\n",
        "        sol[i], errors = newton(g, g_prime, y0)\n",
        "\n",
        "    return sol, timesteps"
      ],
      "metadata": {
        "id": "7OWFZ7LkQ2nc"
      },
      "id": "7OWFZ7LkQ2nc",
      "execution_count": null,
      "outputs": []
    },
    {
      "cell_type": "code",
      "source": [
        "# Parametri\n",
        "t0 = 0\n",
        "tf = 2\n",
        "y0 = 1\n",
        "h = 0.1\n",
        "\n",
        "# Soluzione\n",
        "y, t = be(y0, t0, tf, h)\n",
        "\n",
        "plt.plot(t, y, '-', label='Approximation')\n",
        "plt.legend()\n",
        "plt.grid()"
      ],
      "metadata": {
        "colab": {
          "base_uri": "https://localhost:8080/",
          "height": 430
        },
        "id": "z3aWJyENQ_N0",
        "outputId": "792a2cff-ec55-4909-bd08-4a1b19b8d8df"
      },
      "id": "z3aWJyENQ_N0",
      "execution_count": null,
      "outputs": [
        {
          "output_type": "display_data",
          "data": {
            "text/plain": [
              "<Figure size 640x480 with 1 Axes>"
            ],
            "image/png": "[encoded data removed]"
          },
          "metadata": {}
        }
      ]
    }
  ],
  "metadata": {
    "kernelspec": {
      "display_name": "Python 3 (ipykernel)",
      "language": "python",
      "name": "python3"
    },
    "language_info": {
      "codemirror_mode": {
        "name": "ipython",
        "version": 3
      },
      "file_extension": ".py",
      "mimetype": "text/x-python",
      "name": "python",
      "nbconvert_exporter": "python",
      "pygments_lexer": "ipython3",
      "version": "3.10.9"
    },
    "colab": {
      "provenance": [],
      "include_colab_link": true
    }
  },
  "nbformat": 4,
  "nbformat_minor": 5
}